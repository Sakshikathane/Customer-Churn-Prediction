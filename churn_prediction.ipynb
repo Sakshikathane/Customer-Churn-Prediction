{
  "nbformat": 4,
  "nbformat_minor": 0,
  "metadata": {
    "colab": {
      "provenance": []
    },
    "kernelspec": {
      "name": "python3",
      "display_name": "Python 3"
    },
    "language_info": {
      "name": "python"
    }
  },
  "cells": [
    {
      "cell_type": "code",
      "execution_count": 3,
      "metadata": {
        "colab": {
          "base_uri": "https://localhost:8080/"
        },
        "id": "zmkMTlAFDns7",
        "outputId": "ad5ca233-86af-4e9a-a90f-642b7a23c154"
      },
      "outputs": [
        {
          "output_type": "stream",
          "name": "stdout",
          "text": [
            "CONFUSION MATRIX:\n",
            " [[1551   56]\n",
            " [ 211  182]]\n",
            "\n",
            "CLASSIFICATION REPORT:\n",
            "               precision    recall  f1-score   support\n",
            "\n",
            "         0.0       0.88      0.97      0.92      1607\n",
            "         1.0       0.76      0.46      0.58       393\n",
            "\n",
            "    accuracy                           0.87      2000\n",
            "   macro avg       0.82      0.71      0.75      2000\n",
            "weighted avg       0.86      0.87      0.85      2000\n",
            "\n",
            "\n",
            "TOP FACTORS CONTRIBUTING TO CHURN:\n",
            " Age                  0.239783\n",
            "EstimatedSalary      0.146638\n",
            "CreditScore          0.144214\n",
            "Balance              0.138613\n",
            "NumOfProducts        0.130255\n",
            "Tenure               0.082427\n",
            "IsActiveMember       0.041110\n",
            "Geography_Germany    0.025711\n",
            "Gender               0.019258\n",
            "HasCrCard            0.018722\n",
            "dtype: float64\n"
          ]
        }
      ],
      "source": [
        "import pandas as pd\n",
        "import numpy as np\n",
        "from sklearn.model_selection import train_test_split\n",
        "from sklearn.preprocessing import LabelEncoder, StandardScaler\n",
        "from sklearn.impute import SimpleImputer\n",
        "from sklearn.ensemble import RandomForestClassifier\n",
        "from sklearn.metrics import classification_report, confusion_matrix\n",
        "\n",
        "df = pd.read_csv('Churn_Modelling.csv')\n",
        "\n",
        "df = df.drop(['RowNumber', 'CustomerId', 'Surname'], axis=1)\n",
        "\n",
        "le = LabelEncoder()\n",
        "df['Gender'] = le.fit_transform(df['Gender'])\n",
        "df = pd.get_dummies(df, columns=['Geography'], drop_first=True)\n",
        "\n",
        "imputer = SimpleImputer(strategy='mean')\n",
        "df[df.columns] = imputer.fit_transform(df)\n",
        "\n",
        "X = df.drop('Exited', axis=1)\n",
        "y = df['Exited']\n",
        "\n",
        "X_train, X_test, y_train, y_test = train_test_split(X, y, test_size=0.2, random_state=42)\n",
        "\n",
        "scaler = StandardScaler()\n",
        "X_train = scaler.fit_transform(X_train)\n",
        "X_test = scaler.transform(X_test)\n",
        "\n",
        "model = RandomForestClassifier(random_state=42)\n",
        "model.fit(X_train, y_train)\n",
        "\n",
        "y_pred = model.predict(X_test)\n",
        "\n",
        "print(\"CONFUSION MATRIX:\\n\", confusion_matrix(y_test, y_pred))\n",
        "print(\"\\nCLASSIFICATION REPORT:\\n\", classification_report(y_test, y_pred))\n",
        "\n",
        "importances = pd.Series(model.feature_importances_, index=X.columns)\n",
        "print(\"\\nTOP FACTORS CONTRIBUTING TO CHURN:\\n\", importances.sort_values(ascending=False).head(10))\n"
      ]
    }
  ]
}